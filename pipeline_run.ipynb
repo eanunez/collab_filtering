{
 "cells": [
  {
   "cell_type": "code",
   "execution_count": 1,
   "metadata": {},
   "outputs": [],
   "source": [
    "from collab_filtering import NeuralCollabFiltering\n",
    "import pandas as pd"
   ]
  },
  {
   "cell_type": "markdown",
   "metadata": {},
   "source": [
    "## Pre-process"
   ]
  },
  {
   "cell_type": "code",
   "execution_count": 2,
   "metadata": {},
   "outputs": [
    {
     "name": "stdout",
     "output_type": "stream",
     "text": [
      "Number of summit_client_id: 364120, Number of slug: 11812, Min time_on_page: 1.0, Max time_on_page: 6478.0\n",
      "Encodings data saved at /home/enunez/summit_recommender/neural_recommender/model/encoders_20200915.json\n",
      "New training data saved at: /home/enunez/summit_recommender/neural_recommender/dataset/spot_scid_slug_20200301-20200831_reduced.csv\n",
      "Pre-processing time 16.789029836654663 secs\n"
     ]
    }
   ],
   "source": [
    "csv_path = '../dataset/spot_scid_slug_20200301-20200831.csv'\n",
    "cols = ['summit_client_id', 'slug', 'time_on_page']\n",
    "ncf = NeuralCollabFiltering(cols)\n",
    "df = ncf.pre_processing(csv_path)"
   ]
  },
  {
   "cell_type": "markdown",
   "metadata": {},
   "source": [
    "## Split Data to Train and Test"
   ]
  },
  {
   "cell_type": "code",
   "execution_count": 3,
   "metadata": {},
   "outputs": [],
   "source": [
    "ncf.train_test_split(df)"
   ]
  },
  {
   "cell_type": "markdown",
   "metadata": {},
   "source": [
    "## Train"
   ]
  },
  {
   "cell_type": "code",
   "execution_count": 4,
   "metadata": {},
   "outputs": [
    {
     "name": "stdout",
     "output_type": "stream",
     "text": [
      "Epoch 1/5\n",
      "8742/8742 [==============================] - 826s 94ms/step - loss: 0.1624 - val_loss: 0.1270\n",
      "Epoch 2/5\n",
      "8742/8742 [==============================] - 824s 94ms/step - loss: 0.1323 - val_loss: 0.1344\n",
      "Epoch 3/5\n",
      "8742/8742 [==============================] - 824s 94ms/step - loss: 0.1357 - val_loss: 0.1347\n",
      "Epoch 4/5\n",
      "8742/8742 [==============================] - 823s 94ms/step - loss: 0.1360 - val_loss: 0.1339\n",
      "Epoch 5/5\n",
      "8742/8742 [==============================] - 823s 94ms/step - loss: 0.1330 - val_loss: 0.1318\n"
     ]
    },
    {
     "data": {
      "image/png": "[encoded data removed]",
      "text/plain": [
       "<Figure size 432x288 with 1 Axes>"
      ]
     },
     "metadata": {
      "needs_background": "light"
     },
     "output_type": "display_data"
    },
    {
     "name": "stdout",
     "output_type": "stream",
     "text": [
      "WARNING:tensorflow:From /home/enunez/summit_recommender/venv/lib/python3.6/site-packages/tensorflow/python/training/tracking/tracking.py:111: Model.state_updates (from tensorflow.python.keras.engine.training) is deprecated and will be removed in a future version.\n",
      "Instructions for updating:\n",
      "This property should not be used in TensorFlow 2.0, as updates are applied automatically.\n",
      "WARNING:tensorflow:From /home/enunez/summit_recommender/venv/lib/python3.6/site-packages/tensorflow/python/training/tracking/tracking.py:111: Layer.updates (from tensorflow.python.keras.engine.base_layer) is deprecated and will be removed in a future version.\n",
      "Instructions for updating:\n",
      "This property should not be used in TensorFlow 2.0, as updates are applied automatically.\n",
      "INFO:tensorflow:Assets written to: /home/enunez/summit_recommender/neural_recommender/model/ncf_model_20200915/assets\n",
      "Training time: 1.1451888991064496 hours.\n"
     ]
    }
   ],
   "source": [
    "num_users, num_items = df.user.unique().shape[0], df.item.unique().shape[0]\n",
    "embedding_size = 200\n",
    "batch_size = 128\n",
    "epoch = 5\n",
    "\n",
    "model = ncf.train(num_users=num_users, num_items=num_items, batch_size=batch_size, epochs=epoch)"
   ]
  },
  {
   "cell_type": "markdown",
   "metadata": {},
   "source": [
    "# Reload Model"
   ]
  },
  {
   "cell_type": "code",
   "execution_count": 2,
   "metadata": {},
   "outputs": [],
   "source": [
    "csv_path = 'dataset/spot_scid_slug_20200301-20200831_reduced.csv'\n",
    "model_path = 'model/spot_ncf_model_20200915'\n",
    "encodings_path = 'model/encoders_20200915.json'\n",
    "\n",
    "cols = ['summit_client_id', 'slug', 'time_on_page']\n",
    "ncf = NeuralCollabFiltering(cols)\n",
    "ncf.load_model(csv_path, model_path, encodings_path)"
   ]
  },
  {
   "cell_type": "code",
   "execution_count": 3,
   "metadata": {},
   "outputs": [
    {
     "data": {
      "text/plain": [
       "[]"
      ]
     },
     "execution_count": 3,
     "metadata": {},
     "output_type": "execute_result"
    }
   ],
   "source": [
    "recommendations = ncf.recommend(user_id='unknown', verbose=False)\n",
    "recommendations"
   ]
  },
  {
   "cell_type": "code",
   "execution_count": 4,
   "metadata": {},
   "outputs": [],
   "source": [
    "ncf.recommend()"
   ]
  }
 ],
 "metadata": {
  "kernelspec": {
   "display_name": "recommender",
   "language": "python",
   "name": "venv"
  },
  "language_info": {
   "codemirror_mode": {
    "name": "ipython",
    "version": 3
   },
   "file_extension": ".py",
   "mimetype": "text/x-python",
   "name": "python",
   "nbconvert_exporter": "python",
   "pygments_lexer": "ipython3",
   "version": "3.6.9"
  }
 },
 "nbformat": 4,
 "nbformat_minor": 4
}
