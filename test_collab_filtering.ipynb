{
 "cells": [
  {
   "cell_type": "code",
   "execution_count": 1,
   "metadata": {},
   "outputs": [],
   "source": [
    "from collab_filtering import NeuralCollabFiltering\n",
    "import pandas as pd\n",
    "import time"
   ]
  },
  {
   "cell_type": "code",
   "execution_count": 2,
   "metadata": {},
   "outputs": [],
   "source": [
    "csv_path = '../summit_recommender/dataset/spot_scid_slug_20200301-20200831.csv'\n",
    "df = pd.read_csv(csv_path)\n",
    "# df.head()"
   ]
  },
  {
   "cell_type": "code",
   "execution_count": 3,
   "metadata": {},
   "outputs": [
    {
     "name": "stdout",
     "output_type": "stream",
     "text": [
      "<class 'pandas.core.frame.DataFrame'>\n",
      "RangeIndex: 3284982 entries, 0 to 3284981\n",
      "Data columns (total 4 columns):\n",
      " #   Column            Dtype  \n",
      "---  ------            -----  \n",
      " 0   summit_client_id  object \n",
      " 1   slug              object \n",
      " 2   time_on_page      float64\n",
      " 3   published_date    object \n",
      "dtypes: float64(1), object(3)\n",
      "memory usage: 100.2+ MB\n"
     ]
    }
   ],
   "source": [
    "df.info()"
   ]
  },
  {
   "cell_type": "code",
   "execution_count": 4,
   "metadata": {},
   "outputs": [
    {
     "data": {
      "text/plain": [
       "((2404362,), (17538,))"
      ]
     },
     "execution_count": 4,
     "metadata": {},
     "output_type": "execute_result"
    }
   ],
   "source": [
    "df.summit_client_id.unique().shape, df.slug.unique().shape"
   ]
  },
  {
   "cell_type": "markdown",
   "metadata": {},
   "source": [
    "## Reduce and Clean"
   ]
  },
  {
   "cell_type": "code",
   "execution_count": 5,
   "metadata": {},
   "outputs": [
    {
     "name": "stdout",
     "output_type": "stream",
     "text": [
      "users\n",
      " 0.00       1.0\n",
      "0.01       1.0\n",
      "0.02       1.0\n",
      "0.03       1.0\n",
      "0.04       1.0\n",
      "0.05       1.0\n",
      "0.10       1.0\n",
      "0.25       1.0\n",
      "0.50       1.0\n",
      "0.75       1.0\n",
      "0.90       2.0\n",
      "0.95       3.0\n",
      "0.96       3.0\n",
      "0.97       3.0\n",
      "0.98       4.0\n",
      "0.99       6.0\n",
      "1.00    1855.0\n",
      "Name: summit_client_id, dtype: float64\n",
      "items\n",
      " 0.00         1.00\n",
      "0.01         1.00\n",
      "0.02         1.00\n",
      "0.03         1.00\n",
      "0.04         1.00\n",
      "0.05         1.00\n",
      "0.10         1.00\n",
      "0.25         2.00\n",
      "0.50         5.00\n",
      "0.75        29.00\n",
      "0.90       211.00\n",
      "0.95       590.15\n",
      "0.96       776.60\n",
      "0.97      1158.56\n",
      "0.98      1926.04\n",
      "0.99      3870.47\n",
      "1.00    109323.00\n",
      "Name: slug, dtype: float64\n"
     ]
    }
   ],
   "source": [
    "users = df['summit_client_id'].value_counts()\n",
    "items = df['slug'].value_counts()\n",
    "\n",
    "quantiles = [0, 0.01, 0.02, 0.03, 0.04, 0.05, 0.1, 0.25, 0.5, 0.75, 0.9, 0.95, 0.96, 0.97, 0.98, 0.99, 1]\n",
    "print('users\\n', users.quantile(quantiles))\n",
    "print('items\\n', items.quantile(quantiles))"
   ]
  },
  {
   "cell_type": "markdown",
   "metadata": {},
   "source": [
    "This tells us that only 10% of users have viewed atleast 2 articles and 75% of articles have atleast 2 views.\n",
    "We will reduce the data to remove the tails by selecting users who have read atleast 2 articles and articles that are also read twice."
   ]
  },
  {
   "cell_type": "code",
   "execution_count": 6,
   "metadata": {},
   "outputs": [],
   "source": [
    "users = users[users >= 2]\n",
    "items = items[items >= 2]\n",
    "\n",
    "reduced_df = df.merge(pd.DataFrame({'summit_client_id': users.index})).merge(pd.DataFrame({'slug': items.index}))"
   ]
  },
  {
   "cell_type": "code",
   "execution_count": 7,
   "metadata": {},
   "outputs": [
    {
     "name": "stdout",
     "output_type": "stream",
     "text": [
      "<class 'pandas.core.frame.DataFrame'>\n",
      "Int64Index: 1243195 entries, 0 to 1243194\n",
      "Data columns (total 4 columns):\n",
      " #   Column            Non-Null Count    Dtype  \n",
      "---  ------            --------------    -----  \n",
      " 0   summit_client_id  1243195 non-null  object \n",
      " 1   slug              1243195 non-null  object \n",
      " 2   time_on_page      1243195 non-null  float64\n",
      " 3   published_date    1243195 non-null  object \n",
      "dtypes: float64(1), object(3)\n",
      "memory usage: 47.4+ MB\n"
     ]
    }
   ],
   "source": [
    "reduced_df.info()"
   ]
  },
  {
   "cell_type": "markdown",
   "metadata": {},
   "source": [
    "From 3.2 million records, the new dataset is reduced to 1.2 million records."
   ]
  },
  {
   "cell_type": "code",
   "execution_count": 8,
   "metadata": {},
   "outputs": [
    {
     "data": {
      "text/plain": [
       "((364120,), (11812,))"
      ]
     },
     "execution_count": 8,
     "metadata": {},
     "output_type": "execute_result"
    }
   ],
   "source": [
    "reduced_df.summit_client_id.unique().shape, reduced_df.slug.unique().shape"
   ]
  },
  {
   "cell_type": "markdown",
   "metadata": {},
   "source": [
    "From 2.4 million to 364k unique users and from 17.5k to 11k articles."
   ]
  },
  {
   "cell_type": "code",
   "execution_count": 10,
   "metadata": {},
   "outputs": [],
   "source": [
    "with open('dataset/spot_scid_slug_20200301-20200831_reduced.csv', 'w+', encoding='utf-8', newline='') as f:\n",
    "    reduced_df.to_csv(f, index=False)"
   ]
  },
  {
   "cell_type": "markdown",
   "metadata": {},
   "source": [
    "## Collab Filtering"
   ]
  },
  {
   "cell_type": "code",
   "execution_count": 13,
   "metadata": {},
   "outputs": [
    {
     "name": "stdout",
     "output_type": "stream",
     "text": [
      "Number of summit_client_id: 364120, Number of slug: 11812, Min time_on_page: 1.0, Max time_on_page: 6478.0\n",
      "New training data saved at dataset/encodings.json\n",
      "Pre-processing time 3.734833240509033 secs\n"
     ]
    }
   ],
   "source": [
    "# Pre-process\n",
    "csv_path = 'dataset/spot_scid_slug_20200301-20200831_reduced.csv'\n",
    "cols = ['summit_client_id', 'slug', 'time_on_page']\n",
    "ncf = NeuralCollabFiltering(cols=cols)\n",
    "df = ncf.pre_processing(csv_path, outfile='dataset/encodings.json')"
   ]
  },
  {
   "cell_type": "markdown",
   "metadata": {},
   "source": [
    "### Train-Test Split"
   ]
  },
  {
   "cell_type": "code",
   "execution_count": 15,
   "metadata": {},
   "outputs": [],
   "source": [
    "ncf.train_test_split(df)"
   ]
  },
  {
   "cell_type": "markdown",
   "metadata": {},
   "source": [
    "### Train"
   ]
  },
  {
   "cell_type": "code",
   "execution_count": 16,
   "metadata": {},
   "outputs": [
    {
     "name": "stdout",
     "output_type": "stream",
     "text": [
      "Epoch 1/5\n",
      "8742/8742 [==============================] - 812s 93ms/step - loss: 0.1635 - val_loss: 0.1289\n",
      "Epoch 2/5\n",
      "8742/8742 [==============================] - 812s 93ms/step - loss: 0.1330 - val_loss: 0.1361\n",
      "Epoch 3/5\n",
      "8742/8742 [==============================] - 812s 93ms/step - loss: 0.1365 - val_loss: 0.1352\n",
      "Epoch 4/5\n",
      "8742/8742 [==============================] - 813s 93ms/step - loss: 0.1352 - val_loss: 0.1321\n",
      "Epoch 5/5\n",
      "8742/8742 [==============================] - 814s 93ms/step - loss: 0.1326 - val_loss: 0.1303\n"
     ]
    },
    {
     "data": {
      "image/png": "[encoded data removed]",
      "text/plain": [
       "<Figure size 432x288 with 1 Axes>"
      ]
     },
     "metadata": {
      "needs_background": "light"
     },
     "output_type": "display_data"
    },
    {
     "name": "stdout",
     "output_type": "stream",
     "text": [
      "WARNING:tensorflow:From /home/enunez/collab_filtering/venv/lib/python3.6/site-packages/tensorflow/python/training/tracking/tracking.py:111: Model.state_updates (from tensorflow.python.keras.engine.training) is deprecated and will be removed in a future version.\n",
      "Instructions for updating:\n",
      "This property should not be used in TensorFlow 2.0, as updates are applied automatically.\n",
      "WARNING:tensorflow:From /home/enunez/collab_filtering/venv/lib/python3.6/site-packages/tensorflow/python/training/tracking/tracking.py:111: Layer.updates (from tensorflow.python.keras.engine.base_layer) is deprecated and will be removed in a future version.\n",
      "Instructions for updating:\n",
      "This property should not be used in TensorFlow 2.0, as updates are applied automatically.\n",
      "INFO:tensorflow:Assets written to: /home/enunez/collab_filtering/ncf_model_20200915/assets\n",
      "Training time: 1.1293291466765933 hours.\n",
      "Training time: 1.1293296193414264 hours.\n"
     ]
    }
   ],
   "source": [
    "num_users, num_items = df.user.unique().shape[0], df.item.unique().shape[0]\n",
    "embedding_size = 200\n",
    "batch_size = 128\n",
    "epoch = 5\n",
    "\n",
    "t0 = time.time()\n",
    "model = ncf.train(num_users=num_users, num_items=num_items, batch_size=batch_size, epochs=epoch)\n",
    "print(f'Training time: {(time.time() - t0)/3600} hours.')"
   ]
  },
  {
   "cell_type": "code",
   "execution_count": null,
   "metadata": {},
   "outputs": [],
   "source": [
    "csv_path = 'dataset/spot_scid_slug_20200301-20200831_reduced.csv'\n",
    "ncf.recommend(csv_path, model, 'dataset/encodings.json', df.summit_client_id[400])"
   ]
  },
  {
   "cell_type": "markdown",
   "metadata": {},
   "source": [
    "# Reload Model"
   ]
  },
  {
   "cell_type": "code",
   "execution_count": 20,
   "metadata": {},
   "outputs": [],
   "source": [
    "csv_path = 'dataset/spot_scid_slug_20200301-20200831_reduced.csv'\n",
    "cols = ['summit_client_id', 'slug', 'time_on_page']\n",
    "ncf = NeuralCollabFiltering(cols)"
   ]
  },
  {
   "cell_type": "code",
   "execution_count": 24,
   "metadata": {},
   "outputs": [],
   "source": [
    "import tensorflow as tf\n",
    "\n",
    "load_model = tf.keras.models.load_model('ncf_model_20200915', custom_objects=None, compile=True, options=None\n",
    ")"
   ]
  },
  {
   "cell_type": "code",
   "execution_count": null,
   "metadata": {},
   "outputs": [],
   "source": [
    "recommendations = ncf.recommend(csv_path, load_model, 'dataset/encodings.json', user_id='u793kroVrYZM4ET1hpladd0A', verbose=False)\n",
    "recommendations"
   ]
  }
 ],
 "metadata": {
  "kernelspec": {
   "display_name": "collab_filter",
   "language": "python",
   "name": "venv"
  },
  "language_info": {
   "codemirror_mode": {
    "name": "ipython",
    "version": 3
   },
   "file_extension": ".py",
   "mimetype": "text/x-python",
   "name": "python",
   "nbconvert_exporter": "python",
   "pygments_lexer": "ipython3",
   "version": "3.6.9"
  }
 },
 "nbformat": 4,
 "nbformat_minor": 4
}
